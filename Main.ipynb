{
  "nbformat": 4,
  "nbformat_minor": 0,
  "metadata": {
    "colab": {
      "name": "Main.ipynb",
      "provenance": [],
      "collapsed_sections": [
        "1bDANjUszxaM",
        "koOyGNDiM5Iq",
        "pUcKlgemM7E_",
        "RpcJR_bJNwzU",
        "KvuwtI02Nz9P",
        "-w96dD26N3N8",
        "Nfj-cu9P6WvD",
        "ND0xIByJ1M0c"
      ]
    },
    "kernelspec": {
      "name": "python3",
      "display_name": "Python 3"
    },
    "accelerator": "GPU"
  },
  "cells": [
    {
      "cell_type": "code",
      "metadata": {
        "id": "3Q9YXiPuxw9i",
        "colab": {
          "base_uri": "https://localhost:8080/",
          "height": 128
        },
        "outputId": "3bf2a6cf-1919-44b2-bfd8-59550f83fdb1"
      },
      "source": [
        "from google.colab import drive\n",
        "drive.mount('/content/drive')"
      ],
      "execution_count": null,
      "outputs": [
        {
          "output_type": "stream",
          "text": [
            "Go to this URL in a browser: https://accounts.google.com/o/oauth2/auth?client_id=947318989803-6bn6qk8qdgf4n4g3pfee6491hc0brc4i.apps.googleusercontent.com&redirect_uri=urn%3aietf%3awg%3aoauth%3a2.0%3aoob&scope=email%20https%3a%2f%2fwww.googleapis.com%2fauth%2fdocs.test%20https%3a%2f%2fwww.googleapis.com%2fauth%2fdrive%20https%3a%2f%2fwww.googleapis.com%2fauth%2fdrive.photos.readonly%20https%3a%2f%2fwww.googleapis.com%2fauth%2fpeopleapi.readonly&response_type=code\n",
            "\n",
            "Enter your authorization code:\n",
            "··········\n",
            "Mounted at /content/drive\n"
          ],
          "name": "stdout"
        }
      ]
    },
    {
      "cell_type": "markdown",
      "metadata": {
        "id": "1bDANjUszxaM"
      },
      "source": [
        "#### Generating techer outputs"
      ]
    },
    {
      "cell_type": "code",
      "metadata": {
        "id": "lGf4DBILWZP-"
      },
      "source": [
        "base_dir = '/content/drive/My Drive/Projects/Fiverr/knowledge distillation/data'"
      ],
      "execution_count": null,
      "outputs": []
    },
    {
      "cell_type": "code",
      "metadata": {
        "id": "sC0rOfupcbBU",
        "colab": {
          "base_uri": "https://localhost:8080/",
          "height": 126
        },
        "outputId": "3e683abc-dc51-4791-9b94-ebbe94f0eaa6"
      },
      "source": [
        "!git clone https://github.com/alexanderkroner/saliency.git"
      ],
      "execution_count": null,
      "outputs": [
        {
          "output_type": "stream",
          "text": [
            "Cloning into 'saliency'...\n",
            "remote: Enumerating objects: 30, done.\u001b[K\n",
            "remote: Counting objects:   3% (1/30)\u001b[K\rremote: Counting objects:   6% (2/30)\u001b[K\rremote: Counting objects:  10% (3/30)\u001b[K\rremote: Counting objects:  13% (4/30)\u001b[K\rremote: Counting objects:  16% (5/30)\u001b[K\rremote: Counting objects:  20% (6/30)\u001b[K\rremote: Counting objects:  23% (7/30)\u001b[K\rremote: Counting objects:  26% (8/30)\u001b[K\rremote: Counting objects:  30% (9/30)\u001b[K\rremote: Counting objects:  33% (10/30)\u001b[K\rremote: Counting objects:  36% (11/30)\u001b[K\rremote: Counting objects:  40% (12/30)\u001b[K\rremote: Counting objects:  43% (13/30)\u001b[K\rremote: Counting objects:  46% (14/30)\u001b[K\rremote: Counting objects:  50% (15/30)\u001b[K\rremote: Counting objects:  53% (16/30)\u001b[K\rremote: Counting objects:  56% (17/30)\u001b[K\rremote: Counting objects:  60% (18/30)\u001b[K\rremote: Counting objects:  63% (19/30)\u001b[K\rremote: Counting objects:  66% (20/30)\u001b[K\rremote: Counting objects:  70% (21/30)\u001b[K\rremote: Counting objects:  73% (22/30)\u001b[K\rremote: Counting objects:  76% (23/30)\u001b[K\rremote: Counting objects:  80% (24/30)\u001b[K\rremote: Counting objects:  83% (25/30)\u001b[K\rremote: Counting objects:  86% (26/30)\u001b[K\rremote: Counting objects:  90% (27/30)\u001b[K\rremote: Counting objects:  93% (28/30)\u001b[K\rremote: Counting objects:  96% (29/30)\u001b[K\rremote: Counting objects: 100% (30/30)\u001b[K\rremote: Counting objects: 100% (30/30), done.\u001b[K\n",
            "remote: Compressing objects: 100% (25/25), done.\u001b[K\n",
            "remote: Total 88 (delta 14), reused 12 (delta 5), pack-reused 58\u001b[K\n",
            "Unpacking objects: 100% (88/88), done.\n"
          ],
          "name": "stdout"
        }
      ]
    },
    {
      "cell_type": "code",
      "metadata": {
        "id": "Ie_R4Ug_WmpU"
      },
      "source": [
        "zip_file = base_dir+'/salicon.tar.gz'\n",
        "!cp '{zip_file}' .\n",
        "!tar -xzf salicon.tar.gz\n",
        "!rm salicon.tar.gz"
      ],
      "execution_count": null,
      "outputs": []
    },
    {
      "cell_type": "code",
      "metadata": {
        "id": "Hg5wG43MeQNS",
        "colab": {
          "base_uri": "https://localhost:8080/",
          "height": 35
        },
        "outputId": "28b5934d-ce89-4233-f40b-24d03ecca057"
      },
      "source": [
        "%tensorflow_version 1.x"
      ],
      "execution_count": null,
      "outputs": [
        {
          "output_type": "stream",
          "text": [
            "TensorFlow 1.x selected.\n"
          ],
          "name": "stdout"
        }
      ]
    },
    {
      "cell_type": "code",
      "metadata": {
        "id": "QpnM4Hvj1vmD"
      },
      "source": [
        "!rm -rf ./data/salicon/tsaliency"
      ],
      "execution_count": null,
      "outputs": []
    },
    {
      "cell_type": "code",
      "metadata": {
        "id": "QRAbZaLxcuJM",
        "colab": {
          "base_uri": "https://localhost:8080/",
          "height": 128
        },
        "outputId": "f8d972db-621b-45dd-b6bc-222d83b50e5c"
      },
      "source": [
        "!python ./saliency/main.py test -p ./data/salicon/stimuli/val"
      ],
      "execution_count": null,
      "outputs": [
        {
          "output_type": "stream",
          "text": [
            "WARNING:tensorflow:From ./saliency/main.py:15: The name tf.logging.set_verbosity is deprecated. Please use tf.compat.v1.logging.set_verbosity instead.\n",
            "\n",
            "WARNING:tensorflow:From ./saliency/main.py:15: The name tf.logging.ERROR is deprecated. Please use tf.compat.v1.logging.ERROR instead.\n",
            "\n",
            ">> Start testing with SALICON gpu model...\n"
          ],
          "name": "stdout"
        }
      ]
    },
    {
      "cell_type": "code",
      "metadata": {
        "id": "GTGc5uyVRmID",
        "colab": {
          "base_uri": "https://localhost:8080/",
          "height": 35
        },
        "outputId": "4f9e93a0-7c70-441a-89ab-f2a4b2f69801"
      },
      "source": [
        "import os, pickle\n",
        "\n",
        "for f in os.listdir('./saliency/results/images/'):\n",
        "    with open('./saliency/results/images/'+f, 'rb') as f:\n",
        "        a = pickle.load(f)\n",
        "    break\n",
        "\n",
        "a.shape"
      ],
      "execution_count": null,
      "outputs": [
        {
          "output_type": "execute_result",
          "data": {
            "text/plain": [
              "(240, 320, 1)"
            ]
          },
          "metadata": {
            "tags": []
          },
          "execution_count": 24
        }
      ]
    },
    {
      "cell_type": "code",
      "metadata": {
        "id": "FI5uBvLjhql1"
      },
      "source": [
        "!tar -czf salicon2.tar.gz data\n",
        "!cp salicon2.tar.gz '{base_dir}'"
      ],
      "execution_count": null,
      "outputs": []
    },
    {
      "cell_type": "code",
      "metadata": {
        "id": "NRci5IxnYXsc"
      },
      "source": [
        "!rm salicon2.tar.gz"
      ],
      "execution_count": null,
      "outputs": []
    },
    {
      "cell_type": "markdown",
      "metadata": {
        "id": "koOyGNDiM5Iq"
      },
      "source": [
        "#### Moving Files "
      ]
    },
    {
      "cell_type": "code",
      "metadata": {
        "id": "3T384oOZz_10"
      },
      "source": [
        "base_dir = '/content/drive/My Drive/Projects/Fiverr/knowledge distillation/'"
      ],
      "execution_count": null,
      "outputs": []
    },
    {
      "cell_type": "code",
      "metadata": {
        "id": "d7loNrnl0Al1"
      },
      "source": [
        "zip_file = base_dir+'data/salicon2.tar.gz'\n",
        "!cp '{zip_file}' .\n",
        "!tar -xzf salicon2.tar.gz\n",
        "!rm salicon2.tar.gz"
      ],
      "execution_count": null,
      "outputs": []
    },
    {
      "cell_type": "markdown",
      "metadata": {
        "id": "pUcKlgemM7E_"
      },
      "source": [
        "#### Model"
      ]
    },
    {
      "cell_type": "code",
      "metadata": {
        "id": "0dyLfn-gkp2E"
      },
      "source": [
        "import tensorflow as tf\n",
        "\n",
        "class BasicBlock(tf.keras.layers.Layer):\n",
        "\n",
        "    def __init__(self, filter_num, stride=1):\n",
        "        super(BasicBlock, self).__init__()\n",
        "        self.conv1 = tf.keras.layers.Conv2D(filters=filter_num,\n",
        "                                            kernel_size=(3, 3),\n",
        "                                            strides=stride,\n",
        "                                            padding=\"same\")\n",
        "        self.bn1 = tf.keras.layers.BatchNormalization()\n",
        "        self.conv2 = tf.keras.layers.Conv2D(filters=filter_num,\n",
        "                                            kernel_size=(3, 3),\n",
        "                                            strides=1,\n",
        "                                            padding=\"same\")\n",
        "        self.bn2 = tf.keras.layers.BatchNormalization()\n",
        "        if stride != 1:\n",
        "            self.downsample = tf.keras.Sequential()\n",
        "            self.downsample.add(tf.keras.layers.Conv2D(filters=filter_num,\n",
        "                                                       kernel_size=(1, 1),\n",
        "                                                       strides=stride))\n",
        "            self.downsample.add(tf.keras.layers.BatchNormalization())\n",
        "        else:\n",
        "            self.downsample = lambda x: x\n",
        "\n",
        "    def call(self, inputs, training=None, **kwargs):\n",
        "        residual = self.downsample(inputs)\n",
        "\n",
        "        x = self.conv1(inputs)\n",
        "        x = self.bn1(x, training=training)\n",
        "        x = tf.nn.relu(x)\n",
        "        x = self.conv2(x)\n",
        "        x = self.bn2(x, training=training)\n",
        "\n",
        "        output = tf.nn.relu(tf.keras.layers.add([residual, x]))\n",
        "\n",
        "        return output\n",
        "\n",
        "class BottleNeck(tf.keras.layers.Layer):\n",
        "    def __init__(self, filter_num, stride=1):\n",
        "        super(BottleNeck, self).__init__()\n",
        "        self.conv1 = tf.keras.layers.Conv2D(filters=filter_num,\n",
        "                                            kernel_size=(1, 1),\n",
        "                                            strides=1,\n",
        "                                            padding='same')\n",
        "        self.bn1 = tf.keras.layers.BatchNormalization()\n",
        "        self.conv2 = tf.keras.layers.Conv2D(filters=filter_num,\n",
        "                                            kernel_size=(3, 3),\n",
        "                                            strides=stride,\n",
        "                                            padding='same')\n",
        "        self.bn2 = tf.keras.layers.BatchNormalization()\n",
        "        self.conv3 = tf.keras.layers.Conv2D(filters=filter_num * 4,\n",
        "                                            kernel_size=(1, 1),\n",
        "                                            strides=1,\n",
        "                                            padding='same')\n",
        "        self.bn3 = tf.keras.layers.BatchNormalization()\n",
        "\n",
        "        self.downsample = tf.keras.Sequential()\n",
        "        self.downsample.add(tf.keras.layers.Conv2D(filters=filter_num * 4,\n",
        "                                                   kernel_size=(1, 1),\n",
        "                                                   strides=stride))\n",
        "        self.downsample.add(tf.keras.layers.BatchNormalization())\n",
        "\n",
        "    def call(self, inputs, training=None, **kwargs):\n",
        "        residual = self.downsample(inputs)\n",
        "\n",
        "        x = self.conv1(inputs)\n",
        "        x = self.bn1(x, training=training)\n",
        "        x = tf.nn.relu(x)\n",
        "        x = self.conv2(x)\n",
        "        x = self.bn2(x, training=training)\n",
        "        x = tf.nn.relu(x)\n",
        "        x = self.conv3(x)\n",
        "        x = self.bn3(x, training=training)\n",
        "\n",
        "        output = tf.nn.relu(tf.keras.layers.add([residual, x]))\n",
        "\n",
        "        return output\n",
        "\n",
        "def make_basic_block_layer(filter_num, blocks, stride=1):\n",
        "    res_block = tf.keras.Sequential()\n",
        "    res_block.add(BasicBlock(filter_num, stride=stride))\n",
        "\n",
        "    for _ in range(1, blocks):\n",
        "        res_block.add(BasicBlock(filter_num, stride=1))\n",
        "\n",
        "    return res_block\n",
        "\n",
        "def make_bottleneck_layer(filter_num, blocks, stride=1):\n",
        "    res_block = tf.keras.Sequential()\n",
        "    res_block.add(BottleNeck(filter_num, stride=stride))\n",
        "\n",
        "    for _ in range(1, blocks):\n",
        "        res_block.add(BottleNeck(filter_num, stride=1))\n",
        "\n",
        "    return res_block\n",
        "\n",
        "class ResNet(tf.keras.Model):\n",
        "    def __init__(self, layer_params):\n",
        "        super(ResNet, self).__init__()\n",
        "\n",
        "        self.conv1 = tf.keras.layers.Conv2D(filters=64,\n",
        "                                            kernel_size=(7, 7),\n",
        "                                            strides=2,\n",
        "                                            padding=\"same\")\n",
        "        self.bn1 = tf.keras.layers.BatchNormalization()\n",
        "        self.pool1 = tf.keras.layers.MaxPool2D(pool_size=(3, 3),\n",
        "                                               strides=2,\n",
        "                                               padding=\"same\")\n",
        "\n",
        "        self.layer1 = make_basic_block_layer(filter_num=64,\n",
        "                                             blocks=layer_params[0])\n",
        "        self.layer2 = make_basic_block_layer(filter_num=128,\n",
        "                                             blocks=layer_params[1],\n",
        "                                             stride=2)\n",
        "        self.layer3 = make_basic_block_layer(filter_num=256,\n",
        "                                             blocks=layer_params[2],\n",
        "                                             stride=2)\n",
        "        self.layer4 = make_basic_block_layer(filter_num=512,\n",
        "                                             blocks=layer_params[3],\n",
        "                                             stride=2)\n",
        "\n",
        "    def call(self, inputs, training=None, mask=None):\n",
        "        x = self.conv1(inputs)\n",
        "        x = self.bn1(x, training=training)\n",
        "        x = tf.nn.relu(x)\n",
        "        x = self.pool1(x)\n",
        "        x = self.layer1(x, training=training)\n",
        "        x = self.layer2(x, training=training)\n",
        "        x = self.layer3(x, training=training)\n",
        "        output = self.layer4(x, training=training)\n",
        "\n",
        "        return output\n",
        "\n",
        "def resnet_18():\n",
        "    return ResNet(layer_params=[2, 2, 2, 2])\n",
        "\n",
        "def resnet_34():\n",
        "    return ResNet(layer_params=[3, 4, 6, 3])  \n",
        "\n",
        "\n",
        "def _decoder(features, smoothing_factor=1.0, simple_model=True):\n",
        "\n",
        "    layer1 = tf.keras.layers.UpSampling2D(size=(2,2),\n",
        "                                          interpolation='bilinear')(features)\n",
        "\n",
        "    layer2 = tf.keras.layers.Conv2D(256, 3,\n",
        "                                    padding=\"same\",\n",
        "                                    activation=tf.nn.relu,\n",
        "                                    name=\"decoder/conv1\")(layer1)\n",
        "\n",
        "\n",
        "    layer3 = tf.keras.layers.UpSampling2D(size=(2,2),\n",
        "                                          interpolation='bilinear')(layer2)\n",
        "\n",
        "    layer4 = tf.keras.layers.Conv2D(128, 3,\n",
        "                                    padding=\"same\",\n",
        "                                    activation=tf.nn.relu,\n",
        "                                    name=\"decoder/conv2\")(layer3)\n",
        "\n",
        "    shape = tf.keras.backend.int_shape(layer4)\n",
        "\n",
        "    layer5 = tf.keras.layers.UpSampling2D(size=(2,2),\n",
        "                                          interpolation='bilinear')(layer4)\n",
        "\n",
        "    layer6 = tf.keras.layers.Conv2D(64, 3,\n",
        "                                    padding=\"same\",\n",
        "                                    activation=tf.nn.relu,\n",
        "                                    name=\"decoder/conv3\")(layer5)\n",
        "    \n",
        "    layer7 = tf.keras.layers.UpSampling2D(size=(2,2),\n",
        "                                          interpolation='bilinear')(layer6)\n",
        "\n",
        "    layer8 = tf.keras.layers.Conv2D(32, 3,\n",
        "                                    padding=\"same\",\n",
        "                                    activation=tf.nn.relu,\n",
        "                                    name=\"decoder/conv4\")(layer7)\n",
        "\n",
        "    layer9 = tf.keras.layers.UpSampling2D(size=(2,2),\n",
        "                                          interpolation='bilinear')(layer8)\n",
        "\n",
        "    layer10 = tf.keras.layers.Conv2D(16, 3,\n",
        "                                    padding=\"same\",\n",
        "                                    activation=tf.nn.relu,\n",
        "                                    name=\"decoder/conv5\")(layer9) \n",
        "\n",
        "    decoder_output1 = tf.keras.layers.Conv2D(1, 3,\n",
        "                                    padding=\"same\",\n",
        "                                    activation='sigmoid',\n",
        "                                    name=\"decoder/conv6_1\")(layer9)\n",
        "\n",
        "    decoder_output2 = tf.keras.layers.Conv2D(1, 3,\n",
        "                                            padding=\"same\",\n",
        "                                            activation='sigmoid',\n",
        "                                            name=\"decoder/conv6_2\")(layer10)\n",
        "    decoder_output2 = decoder_output2/smoothing_factor\n",
        "\n",
        "    if (simple_model):\n",
        "        decoder_output = decoder_output1\n",
        "    else:\n",
        "        decoder_output = tf.keras.layers.Concatenate(axis=-1)([decoder_output1, decoder_output2])\n",
        "    \n",
        "    return decoder_output\n",
        "\n",
        "def _base_model(input_shape, smoothing_factor=1.0, simple_model=True):\n",
        "    input = tf.keras.layers.Input(shape=input_shape)\n",
        "    \n",
        "    encoder = resnet_18()\n",
        "    encoder.build(tuple([None]) + input_shape)\n",
        "\n",
        "    encoding = encoder(input)\n",
        "    output = _decoder(encoding, smoothing_factor, simple_model)\n",
        "\n",
        "    model = tf.keras.models.Model(input, output)\n",
        "\n",
        "    return model"
      ],
      "execution_count": null,
      "outputs": []
    },
    {
      "cell_type": "markdown",
      "metadata": {
        "id": "RpcJR_bJNwzU"
      },
      "source": [
        "#### Loss"
      ]
    },
    {
      "cell_type": "code",
      "metadata": {
        "id": "yUht6Zhpu38L"
      },
      "source": [
        "@tf.function\n",
        "def kld(y_true, y_pred, eps=1e-7):\n",
        "    sum_per_image = tf.reduce_sum(y_true, axis=(1, 2, 3), keepdims=True)\n",
        "    y_true /= eps + sum_per_image\n",
        "\n",
        "    sum_per_image = tf.reduce_sum(y_pred, axis=(1, 2, 3), keepdims=True)\n",
        "    y_pred /= eps + sum_per_image\n",
        "\n",
        "    loss = y_true * tf.math.log(eps + y_true / (eps + y_pred))\n",
        "    loss = tf.reduce_mean(tf.reduce_sum(loss, axis=(1, 2, 3)))\n",
        "\n",
        "    return loss\n",
        "    \n",
        "def multi_loss(smoothing_factor):\n",
        "    def loss(y_true, y_pred):\n",
        "        saliency, t_saliency = y_true[:, :, :, 0:1], y_true[:, :, :, 1:]\n",
        "        pred_saliency, pred_t_saliency = y_pred[:, :, :, 0:1], y_pred[:, :, :, 1:]\n",
        "\n",
        "        kl_loss = kld(saliency, pred_saliency)\n",
        "        t_kl_loss = kld(t_saliency/3, pred_t_saliency) \n",
        "\n",
        "        return kl_loss + 2.5*t_kl_loss\n",
        "\n",
        "    return loss\n",
        "\n",
        "def base_kld(y_true, y_pred):\n",
        "    saliency= y_true[:, :, :, 0:1]\n",
        "    return kld(saliency, y_pred)"
      ],
      "execution_count": null,
      "outputs": []
    },
    {
      "cell_type": "markdown",
      "metadata": {
        "id": "KvuwtI02Nz9P"
      },
      "source": [
        "#### KL-Divergence Metric"
      ]
    },
    {
      "cell_type": "code",
      "metadata": {
        "id": "9RdbZaWVBjot"
      },
      "source": [
        "class kl_divergennce(tf.keras.metrics.Metric):\n",
        "\n",
        "  def __init__(self, name='kld', **kwargs):\n",
        "    super(kl_divergennce, self).__init__(name=name, **kwargs)\n",
        "    self.kld = self.add_weight(name='kld', initializer='zeros')\n",
        "    self.total = self.add_weight('total', initializer='zeros')\n",
        "    self.count = self.add_weight('count', initializer='zeros')\n",
        "\n",
        "  def update_state(self, y_true, y_pred, sample_weight=None):\n",
        "    saliency= y_true[:, :, :, 0:1]\n",
        "    y_pred= y_pred[:, :, :, 0:1]\n",
        "\n",
        "    kl_loss = kld(saliency, y_pred)\n",
        "    self.total.assign_add(kl_loss)\n",
        "    self.count.assign_add(1)\n",
        "\n",
        "    if sample_weight is not None:\n",
        "      sample_weight = tf.cast(sample_weight, self.dtype)\n",
        "      values = tf.multiply(values, sample_weight)\n",
        "\n",
        "    self.kld.assign(tf.divide(self.total, self.count))\n",
        "\n",
        "  def result(self):\n",
        "    return self.kld\n",
        "\n",
        "  def reset_states(self):\n",
        "    self.kld.assign(0)\n",
        "    self.count.assign(0)\n",
        "    self.total.assign(0)\n"
      ],
      "execution_count": null,
      "outputs": []
    },
    {
      "cell_type": "markdown",
      "metadata": {
        "id": "-w96dD26N3N8"
      },
      "source": [
        "#### Compiling model"
      ]
    },
    {
      "cell_type": "code",
      "metadata": {
        "id": "-iXOhjpKTX7H"
      },
      "source": [
        "base_model = _base_model(input_shape=(256, 352, 3))\n",
        "base_model_kd = _base_model(input_shape=(256, 352, 3), smoothing_factor=3, simple_model=False)"
      ],
      "execution_count": null,
      "outputs": []
    },
    {
      "cell_type": "code",
      "metadata": {
        "id": "gdLzeSTPmqxI"
      },
      "source": [
        "lr_schedule = tf.keras.optimizers.schedules.ExponentialDecay(\n",
        "    initial_learning_rate=1e-3,\n",
        "    decay_steps=100,\n",
        "    decay_rate=(0.0005))\n",
        "\n",
        "optimizer = tf.keras.optimizers.Adam(learning_rate=1e-3)\n",
        "\n",
        "base_model.compile(optimizer=optimizer, \n",
        "                  loss=base_kld,\n",
        "                  metrics=kl_divergennce())\n",
        "\n",
        "base_model_kd.compile(optimizer=optimizer, \n",
        "                  loss=multi_loss(smoothing_factor=3),\n",
        "                  metrics=kl_divergennce())"
      ],
      "execution_count": null,
      "outputs": []
    },
    {
      "cell_type": "code",
      "metadata": {
        "id": "KWf85Iq5dkDM",
        "colab": {
          "base_uri": "https://localhost:8080/",
          "height": 1000
        },
        "outputId": "62418b33-ab22-4ff3-e1ee-88beb90d7089"
      },
      "source": [
        "base_model.summary()\n",
        "base_model_kd.summary()"
      ],
      "execution_count": null,
      "outputs": [
        {
          "output_type": "stream",
          "text": [
            "Model: \"functional_9\"\n",
            "_________________________________________________________________\n",
            "Layer (type)                 Output Shape              Param #   \n",
            "=================================================================\n",
            "input_5 (InputLayer)         [(None, 256, 352, 3)]     0         \n",
            "_________________________________________________________________\n",
            "res_net_4 (ResNet)           (None, 8, 11, 512)        11190912  \n",
            "_________________________________________________________________\n",
            "up_sampling2d_20 (UpSampling (None, 16, 22, 512)       0         \n",
            "_________________________________________________________________\n",
            "decoder/conv1 (Conv2D)       (None, 16, 22, 256)       1179904   \n",
            "_________________________________________________________________\n",
            "up_sampling2d_21 (UpSampling (None, 32, 44, 256)       0         \n",
            "_________________________________________________________________\n",
            "decoder/conv2 (Conv2D)       (None, 32, 44, 128)       295040    \n",
            "_________________________________________________________________\n",
            "up_sampling2d_22 (UpSampling (None, 64, 88, 128)       0         \n",
            "_________________________________________________________________\n",
            "decoder/conv3 (Conv2D)       (None, 64, 88, 64)        73792     \n",
            "_________________________________________________________________\n",
            "up_sampling2d_23 (UpSampling (None, 128, 176, 64)      0         \n",
            "_________________________________________________________________\n",
            "decoder/conv4 (Conv2D)       (None, 128, 176, 32)      18464     \n",
            "_________________________________________________________________\n",
            "up_sampling2d_24 (UpSampling (None, 256, 352, 32)      0         \n",
            "_________________________________________________________________\n",
            "decoder/conv6_1 (Conv2D)     (None, 256, 352, 1)       289       \n",
            "=================================================================\n",
            "Total params: 12,758,401\n",
            "Trainable params: 12,748,801\n",
            "Non-trainable params: 9,600\n",
            "_________________________________________________________________\n",
            "Model: \"functional_11\"\n",
            "__________________________________________________________________________________________________\n",
            "Layer (type)                    Output Shape         Param #     Connected to                     \n",
            "==================================================================================================\n",
            "input_6 (InputLayer)            [(None, 256, 352, 3) 0                                            \n",
            "__________________________________________________________________________________________________\n",
            "res_net_5 (ResNet)              (None, 8, 11, 512)   11190912    input_6[0][0]                    \n",
            "__________________________________________________________________________________________________\n",
            "up_sampling2d_25 (UpSampling2D) (None, 16, 22, 512)  0           res_net_5[0][0]                  \n",
            "__________________________________________________________________________________________________\n",
            "decoder/conv1 (Conv2D)          (None, 16, 22, 256)  1179904     up_sampling2d_25[0][0]           \n",
            "__________________________________________________________________________________________________\n",
            "up_sampling2d_26 (UpSampling2D) (None, 32, 44, 256)  0           decoder/conv1[0][0]              \n",
            "__________________________________________________________________________________________________\n",
            "decoder/conv2 (Conv2D)          (None, 32, 44, 128)  295040      up_sampling2d_26[0][0]           \n",
            "__________________________________________________________________________________________________\n",
            "up_sampling2d_27 (UpSampling2D) (None, 64, 88, 128)  0           decoder/conv2[0][0]              \n",
            "__________________________________________________________________________________________________\n",
            "decoder/conv3 (Conv2D)          (None, 64, 88, 64)   73792       up_sampling2d_27[0][0]           \n",
            "__________________________________________________________________________________________________\n",
            "up_sampling2d_28 (UpSampling2D) (None, 128, 176, 64) 0           decoder/conv3[0][0]              \n",
            "__________________________________________________________________________________________________\n",
            "decoder/conv4 (Conv2D)          (None, 128, 176, 32) 18464       up_sampling2d_28[0][0]           \n",
            "__________________________________________________________________________________________________\n",
            "up_sampling2d_29 (UpSampling2D) (None, 256, 352, 32) 0           decoder/conv4[0][0]              \n",
            "__________________________________________________________________________________________________\n",
            "decoder/conv5 (Conv2D)          (None, 256, 352, 16) 4624        up_sampling2d_29[0][0]           \n",
            "__________________________________________________________________________________________________\n",
            "decoder/conv6_2 (Conv2D)        (None, 256, 352, 1)  145         decoder/conv5[0][0]              \n",
            "__________________________________________________________________________________________________\n",
            "decoder/conv6_1 (Conv2D)        (None, 256, 352, 1)  289         up_sampling2d_29[0][0]           \n",
            "__________________________________________________________________________________________________\n",
            "tf_op_layer_RealDiv_5 (TensorFl [(None, 256, 352, 1) 0           decoder/conv6_2[0][0]            \n",
            "__________________________________________________________________________________________________\n",
            "concatenate_2 (Concatenate)     (None, 256, 352, 2)  0           decoder/conv6_1[0][0]            \n",
            "                                                                 tf_op_layer_RealDiv_5[0][0]      \n",
            "==================================================================================================\n",
            "Total params: 12,763,170\n",
            "Trainable params: 12,753,570\n",
            "Non-trainable params: 9,600\n",
            "__________________________________________________________________________________________________\n"
          ],
          "name": "stdout"
        }
      ]
    },
    {
      "cell_type": "markdown",
      "metadata": {
        "id": "Nfj-cu9P6WvD"
      },
      "source": [
        "#### Data Generator"
      ]
    },
    {
      "cell_type": "code",
      "metadata": {
        "id": "r6MGHrvNULgF"
      },
      "source": [
        "from imgaug import augmenters as iaa\n",
        "\n",
        "augmenter = iaa.Sequential(\n",
        "    [\n",
        "        iaa.Fliplr(0.5),\n",
        "        iaa.Flipud(0.5)    \n",
        "    ],\n",
        "    random_order=True,\n",
        ")"
      ],
      "execution_count": null,
      "outputs": []
    },
    {
      "cell_type": "code",
      "metadata": {
        "id": "TVugevPkPqSO"
      },
      "source": [
        "import random\n",
        "import pickle\n",
        "import numpy as np\n",
        "import os\n",
        "import cv2\n",
        "from skimage.transform import resize\n",
        "\n",
        "class DataGenerator(tf.keras.utils.Sequence):\n",
        "\n",
        "    def __init__(self, base_path, target_size=(224, 224), type_='train', batch_size=32, random_state=0, augmenter=None):\n",
        "        \n",
        "        self.stimuli_path = os.path.join(base_path, f'stimuli/{type_}')\n",
        "        self.saliency_path = os.path.join(base_path, f'saliency/{type_}')\n",
        "        self.tsaliency_path = os.path.join(base_path, f'tsaliency/{type_}')\n",
        "        self.augmenter=augmenter\n",
        "        self.batch_size = batch_size\n",
        "        self.target_size = target_size\n",
        "        self.random_state = random_state\n",
        "        \n",
        "        self._get_files(self.stimuli_path)\n",
        "\n",
        "        self.steps = int(len(self.files)/batch_size)\n",
        "        print(f'{self.steps} batches')\n",
        "\n",
        "    def __len__(self):\n",
        "        return self.steps\n",
        "\n",
        "    def __getitem__(self, idx):\n",
        "        batch_files = self.files[idx * self.batch_size:(idx + 1) * self.batch_size]\n",
        "\n",
        "        imagenet_mean = [103.939, 116.779, 123.68]\n",
        "        stimuli = [(cv2.imread(os.path.join(self.stimuli_path, path+'.jpg')) - imagenet_mean)/255.0\n",
        "                   for path in batch_files]\n",
        "\n",
        "        stimuli = np.array([resize(img, self.target_size) for img in stimuli])\n",
        "\n",
        "        tsaliency = []\n",
        "        for path in batch_files:\n",
        "            with open(os.path.join(self.tsaliency_path, path+'.pkl'), 'rb') as fp:\n",
        "                tsaliency.append(resize(pickle.load(fp), self.target_size))\n",
        "        \n",
        "        saliency = np.asarray([resize(cv2.imread(os.path.join(self.saliency_path, path+'.png'), 0), self.target_size) \n",
        "                                for path in batch_files])\n",
        "\n",
        "        if(self.augmenter):\n",
        "            aug = self.augmenter.to_deterministic()\n",
        "            \n",
        "            stimuli = np.array(aug.augment_images(stimuli))\n",
        "            saliency = np.array(aug.augment_images(saliency))\n",
        "            tsaliency = np.array(aug.augment_images(tsaliency))\n",
        "\n",
        "        y = np.concatenate((np.expand_dims(saliency, -1), tsaliency), axis=-1)\n",
        "        x = stimuli\n",
        "\n",
        "        return x, y\n",
        "\n",
        "    def _get_files(self, base_path):\n",
        "        self.files = []\n",
        "        for f in os.listdir(base_path):\n",
        "            self.files.append(os.path.splitext(f)[0])\n",
        "\n",
        "    def on_epoch_end(self):\n",
        "        self.random_state +=1\n",
        "        random.seed(a=self.random_state)\n",
        "        random.shuffle(self.files)"
      ],
      "execution_count": null,
      "outputs": []
    },
    {
      "cell_type": "code",
      "metadata": {
        "id": "r0vbAKrSx4yy",
        "colab": {
          "base_uri": "https://localhost:8080/",
          "height": 35
        },
        "outputId": "1f8bd3c3-aad9-49ea-e25e-adcb43c84bff"
      },
      "source": [
        "train_gen = DataGenerator('./data/salicon', target_size=(256, 352), augmenter=augmenter)"
      ],
      "execution_count": null,
      "outputs": [
        {
          "output_type": "stream",
          "text": [
            "312 batches\n"
          ],
          "name": "stdout"
        }
      ]
    },
    {
      "cell_type": "code",
      "metadata": {
        "id": "D_vb0N2z0_tD",
        "colab": {
          "base_uri": "https://localhost:8080/",
          "height": 35
        },
        "outputId": "f5a409d2-e985-43f8-cd02-b4292d85498e"
      },
      "source": [
        "val_gen = DataGenerator('./data/salicon', target_size=(256, 352), type_='val')"
      ],
      "execution_count": null,
      "outputs": [
        {
          "output_type": "stream",
          "text": [
            "156 batches\n"
          ],
          "name": "stdout"
        }
      ]
    },
    {
      "cell_type": "markdown",
      "metadata": {
        "id": "ND0xIByJ1M0c"
      },
      "source": [
        "#### Callbacks"
      ]
    },
    {
      "cell_type": "code",
      "metadata": {
        "id": "0-kFnfpa1MOX"
      },
      "source": [
        "class Sample(tf.keras.callbacks.Callback):\n",
        "\n",
        "    def __init__(self, val_gen, model, base_path='.'):\n",
        "        super(Sample, self).__init__()\n",
        "        self.val_gen = val_gen\n",
        "        self.model = model\n",
        "        self.base_path=base_path\n",
        "\n",
        "    def on_epoch_end(self, epoch, logs={}):\n",
        "        idx = np.random.randint(0, len(self.val_gen), None)\n",
        "        x = self.val_gen[idx][0][0:1]\n",
        "        y = self.val_gen[idx][1][0, :, :, 0:1]\n",
        "        y_dash = self.model.predict(x)[0, :, :, 0:1]\n",
        "\n",
        "        kld = logs['kld']\n",
        "        loss = logs['loss']\n",
        "        \n",
        "        cv2.imwrite(os.path.join(self.base_path,f'salinecy {epoch}.png'), y_dash*255.0)\n",
        "        cv2.imwrite(os.path.join(self.base_path,f'ground truth {epoch}.png'), y*255.0)\n",
        "        cv2.imwrite(os.path.join(self.base_path,f'image {epoch}.png'), x[0]*255.0 + [103.939, 116.779, 123.68])"
      ],
      "execution_count": null,
      "outputs": []
    },
    {
      "cell_type": "markdown",
      "metadata": {
        "id": "lyKNkeXm6bQ3"
      },
      "source": [
        "#### Training"
      ]
    },
    {
      "cell_type": "markdown",
      "metadata": {
        "id": "B_SiHIeROyqL"
      },
      "source": [
        "##### Without knowledge distillation "
      ]
    },
    {
      "cell_type": "code",
      "metadata": {
        "id": "07fGgbJBO7Y8"
      },
      "source": [
        "!mkdir base_model"
      ],
      "execution_count": null,
      "outputs": []
    },
    {
      "cell_type": "code",
      "metadata": {
        "id": "v9cpca-8O9yp",
        "colab": {
          "base_uri": "https://localhost:8080/",
          "height": 380
        },
        "outputId": "c61286ef-867e-45a5-91d0-f85ceb36259d"
      },
      "source": [
        "history = base_model.fit(train_gen, validation_data = val_gen, epochs=10, \n",
        "                callbacks=[Sample(val_gen, base_model, './base_model'), \n",
        "                tf.keras.callbacks.ModelCheckpoint('./base_model/model.h5', \n",
        "                                                   save_weights_only=True, \n",
        "                                                   save_best_only=True)])"
      ],
      "execution_count": null,
      "outputs": [
        {
          "output_type": "stream",
          "text": [
            "Epoch 1/10\n",
            "312/312 [==============================] - 1153s 4s/step - loss: 1.2948 - kld: 1.2948 - val_loss: 1.2057 - val_kld: 1.2057\n",
            "Epoch 2/10\n",
            "312/312 [==============================] - 1147s 4s/step - loss: 1.2807 - kld: 1.2807 - val_loss: 1.2058 - val_kld: 1.2058\n",
            "Epoch 3/10\n",
            "312/312 [==============================] - 1124s 4s/step - loss: 1.2804 - kld: 1.2804 - val_loss: 1.2060 - val_kld: 1.2060\n",
            "Epoch 4/10\n",
            "312/312 [==============================] - 1109s 4s/step - loss: 1.2804 - kld: 1.2804 - val_loss: 1.2059 - val_kld: 1.2059\n",
            "Epoch 5/10\n",
            "312/312 [==============================] - 1113s 4s/step - loss: 1.2806 - kld: 1.2806 - val_loss: 1.2059 - val_kld: 1.2059\n",
            "Epoch 6/10\n",
            "312/312 [==============================] - 1114s 4s/step - loss: 1.2800 - kld: 1.2800 - val_loss: 1.2057 - val_kld: 1.2057\n",
            "Epoch 7/10\n",
            "312/312 [==============================] - 1104s 4s/step - loss: 1.2802 - kld: 1.2802 - val_loss: 1.2056 - val_kld: 1.2056\n",
            "Epoch 8/10\n",
            "312/312 [==============================] - 1109s 4s/step - loss: 1.2804 - kld: 1.2804 - val_loss: 1.2060 - val_kld: 1.2060\n",
            "Epoch 9/10\n",
            "312/312 [==============================] - 1122s 4s/step - loss: 1.2804 - kld: 1.2804 - val_loss: 1.2059 - val_kld: 1.2059\n",
            "Epoch 10/10\n",
            "312/312 [==============================] - 1132s 4s/step - loss: 1.2803 - kld: 1.2803 - val_loss: 1.2056 - val_kld: 1.2056\n"
          ],
          "name": "stdout"
        }
      ]
    },
    {
      "cell_type": "code",
      "metadata": {
        "id": "XscfuIVbPXFH"
      },
      "source": [
        "with open('./base_model/history.pkl', 'wb') as fp:\n",
        "    pickle.dump({'history':history.history}, fp)"
      ],
      "execution_count": null,
      "outputs": []
    },
    {
      "cell_type": "code",
      "metadata": {
        "id": "N20HlBQ3PeFC"
      },
      "source": [
        "!cp -r base_model /content/drive/My\\ Drive/Projects/Fiverr/knowledge\\ distillation/"
      ],
      "execution_count": null,
      "outputs": []
    },
    {
      "cell_type": "markdown",
      "metadata": {
        "id": "7sJTaoNhO5m0"
      },
      "source": [
        "##### With knowledge distillation "
      ]
    },
    {
      "cell_type": "code",
      "metadata": {
        "id": "65ccot2UCyZd"
      },
      "source": [
        "!mkdir knowledge_distilled_model"
      ],
      "execution_count": null,
      "outputs": []
    },
    {
      "cell_type": "code",
      "metadata": {
        "id": "GF43dPxMVbwh",
        "colab": {
          "base_uri": "https://localhost:8080/",
          "height": 380
        },
        "outputId": "af0030a4-494a-4149-b2a2-4d942d2ead67"
      },
      "source": [
        "history = base_model_kd.fit(train_gen, validation_data = val_gen, epochs=10, \n",
        "                callbacks=[Sample(val_gen, base_model_kd, './knowledge_distilled_model'), \n",
        "                tf.keras.callbacks.ModelCheckpoint('./knowledge_distilled_model/model.h5', \n",
        "                                                   save_weights_only=True, \n",
        "                                                   save_best_only=True)])"
      ],
      "execution_count": null,
      "outputs": [
        {
          "output_type": "stream",
          "text": [
            "Epoch 1/10\n",
            "312/312 [==============================] - 1133s 4s/step - loss: 1.6452 - kld: 0.6234 - val_loss: 1.3871 - val_kld: 0.5210\n",
            "Epoch 2/10\n",
            "312/312 [==============================] - 1145s 4s/step - loss: 1.1794 - kld: 0.4755 - val_loss: 1.0105 - val_kld: 0.4099\n",
            "Epoch 3/10\n",
            "312/312 [==============================] - 1137s 4s/step - loss: 1.0098 - kld: 0.4224 - val_loss: 0.9167 - val_kld: 0.3862\n",
            "Epoch 4/10\n",
            "312/312 [==============================] - 1112s 4s/step - loss: 0.9101 - kld: 0.3919 - val_loss: 0.8366 - val_kld: 0.3643\n",
            "Epoch 5/10\n",
            "312/312 [==============================] - 1108s 4s/step - loss: 0.8261 - kld: 0.3654 - val_loss: 0.8251 - val_kld: 0.3601\n",
            "Epoch 6/10\n",
            "312/312 [==============================] - 1108s 4s/step - loss: 0.7727 - kld: 0.3490 - val_loss: 0.7323 - val_kld: 0.3307\n",
            "Epoch 7/10\n",
            "312/312 [==============================] - 1101s 4s/step - loss: 0.7312 - kld: 0.3361 - val_loss: 0.7467 - val_kld: 0.3327\n",
            "Epoch 8/10\n",
            "312/312 [==============================] - 1106s 4s/step - loss: 0.6815 - kld: 0.3215 - val_loss: 0.7027 - val_kld: 0.3243\n",
            "Epoch 9/10\n",
            "312/312 [==============================] - 1130s 4s/step - loss: 0.6508 - kld: 0.3115 - val_loss: 0.6601 - val_kld: 0.3097\n",
            "Epoch 10/10\n",
            "312/312 [==============================] - 1134s 4s/step - loss: 0.6226 - kld: 0.3025 - val_loss: 0.6293 - val_kld: 0.3041\n"
          ],
          "name": "stdout"
        }
      ]
    },
    {
      "cell_type": "code",
      "metadata": {
        "id": "JxvBGcIYCZA5"
      },
      "source": [
        "with open('./knowledge_distilled_model/history.pkl', 'wb') as fp:\n",
        "    pickle.dump({'history':history.history}, fp)"
      ],
      "execution_count": null,
      "outputs": []
    },
    {
      "cell_type": "code",
      "metadata": {
        "id": "LzsaqwQuCHD0"
      },
      "source": [
        "!cp -r knowledge_distilled_model /content/drive/My\\ Drive/Projects/Fiverr/knowledge\\ distillation/"
      ],
      "execution_count": null,
      "outputs": []
    },
    {
      "cell_type": "markdown",
      "metadata": {
        "id": "wsjb8M0OV7j5"
      },
      "source": [
        "#### Results vizulaization"
      ]
    },
    {
      "cell_type": "markdown",
      "metadata": {
        "id": "1_tg7NyuXNt-"
      },
      "source": [
        "###### Without knowledge distillation"
      ]
    },
    {
      "cell_type": "code",
      "metadata": {
        "id": "j-eoEiYQXJIk"
      },
      "source": [
        "from matplotlib import pyplot as plt\n",
        "import pickle"
      ],
      "execution_count": null,
      "outputs": []
    },
    {
      "cell_type": "code",
      "metadata": {
        "id": "npvHNRI8W10z",
        "colab": {
          "base_uri": "https://localhost:8080/",
          "height": 265
        },
        "outputId": "9bbdc292-b276-41a7-9303-792865805721"
      },
      "source": [
        "with open('./base_model/history.pkl', 'rb') as fp:\n",
        "    history_kd = pickle.load(fp)\n",
        "\n",
        "plt.plot(history_kd['history']['kld']) \n",
        "plt.plot(history_kd['history']['val_kld']) \n",
        "plt.legend(['train_kld', 'val_kld'])\n",
        "plt.show()"
      ],
      "execution_count": null,
      "outputs": [
        {
          "output_type": "display_data",
          "data": {
            "image/png": "[encoded data removed]",
            "text/plain": [
              "<Figure size 432x288 with 1 Axes>"
            ]
          },
          "metadata": {
            "tags": [],
            "needs_background": "light"
          }
        }
      ]
    },
    {
      "cell_type": "markdown",
      "metadata": {
        "id": "c8evsZ3xXTJW"
      },
      "source": [
        "##### With knowledge distillation"
      ]
    },
    {
      "cell_type": "code",
      "metadata": {
        "id": "g1j7ubjZWL7K",
        "colab": {
          "base_uri": "https://localhost:8080/",
          "height": 265
        },
        "outputId": "799366f0-3d42-4d9e-b452-5f87c8833b92"
      },
      "source": [
        "with open('./knowledge_distilled_model/history.pkl', 'rb') as fp:\n",
        "    history_kd = pickle.load(fp)\n",
        "\n",
        "plt.plot(history_kd['history']['kld']) \n",
        "plt.plot(history_kd['history']['val_kld']) \n",
        "plt.legend(['train_kld', 'val_kld'])\n",
        "plt.show()"
      ],
      "execution_count": null,
      "outputs": [
        {
          "output_type": "display_data",
          "data": {
            "image/png": "[encoded data removed]",
            "text/plain": [
              "<Figure size 432x288 with 1 Axes>"
            ]
          },
          "metadata": {
            "tags": [],
            "needs_background": "light"
          }
        }
      ]
    }
  ]
}